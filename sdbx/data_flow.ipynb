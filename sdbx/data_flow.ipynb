{
 "cells": [
  {
   "cell_type": "code",
   "execution_count": 5,
   "metadata": {},
   "outputs": [],
   "source": [
    "import numpy as np"
   ]
  },
  {
   "cell_type": "code",
   "execution_count": 8,
   "metadata": {},
   "outputs": [],
   "source": [
    "subject_file = \"../Datasets/HCP_motor-task_12-subjects/sub-102008_TS.txt\"\n",
    "length = 100\n",
    "ROIs = [-1]"
   ]
  },
  {
   "cell_type": "code",
   "execution_count": 18,
   "metadata": {},
   "outputs": [
    {
     "name": "stdout",
     "output_type": "stream",
     "text": [
      "Participant ID: sub-102008_Length-100\n",
      "284\n",
      "TS2analyse.shape: (5, 1, 284)\n",
      "No. ROIs: 5 -> No. pairs: 10\n",
      "\n"
     ]
    }
   ],
   "source": [
    "name_subject = subject_file.split(\"/\")[-1].split(\"_TS\")[0] + '_Length-' + str(length)\n",
    "print(f\"Participant ID: {name_subject}\")\n",
    "\n",
    "# Load time series from subject -- dims: time-points X total-ROIs\n",
    "time_series = np.genfromtxt(subject_file)# TODO: Add compatibility, delimiter='\\t')\n",
    "if np.isnan(time_series[:,0]).all():\n",
    "    time_series = time_series[:,1:] # First column is dropped due to Nan\n",
    "limit = int(time_series.shape[0]*0.01*length)\n",
    "print(time_series.shape[0])\n",
    "\n",
    "# ROIs from input command\n",
    "ROIs = list(range(time_series.shape[-1])) if ROIs[0] == -1 else [roi-1 for roi in ROIs]\n",
    "ROIs = ROIs[:5]\n",
    "\n",
    "# Time series to analyse -- dims: ROIs X 1 X time-points\n",
    "TS2analyse = np.expand_dims(\n",
    "    np.array([time_series[:limit,roi] for roi in ROIs]), axis=1\n",
    ")\n",
    "\n",
    "print(f\"TS2analyse.shape: {TS2analyse.shape}\")\n",
    "print(f\"No. ROIs: {len(ROIs)} -> No. pairs: {int(0.5 * len(ROIs) * (len(ROIs) - 1))}\\n\")"
   ]
  },
  {
   "cell_type": "code",
   "execution_count": 21,
   "metadata": {},
   "outputs": [
    {
     "name": "stdout",
     "output_type": "stream",
     "text": [
      "[[-1.7170555e+01  9.7541650e+00 -3.2609444e+01]\n",
      " [-1.4019283e+01  1.7011324e+01 -4.8442904e+01]\n",
      " [-1.1907902e+01  1.8373649e+01 -6.0465973e+01]\n",
      " [-1.0905414e+01  1.4681274e+01 -6.2450480e+01]\n",
      " [-1.1113604e+01  8.5082250e+00 -5.2713537e+01]\n",
      " [-1.2670258e+01  3.1339070e+00 -3.4569214e+01]\n",
      " [-1.5554468e+01  1.2482920e+00 -1.4670972e+01]\n",
      " [-1.9287836e+01  3.8620940e+00 -2.0840000e-03]\n",
      " [-2.2753117e+01  9.8642590e+00  5.2041660e+00]\n",
      " [-2.4264374e+01  1.6363053e+01  1.3412190e+00]]\n"
     ]
    }
   ],
   "source": [
    "print(time_series[:10, :3])"
   ]
  },
  {
   "cell_type": "code",
   "execution_count": null,
   "metadata": {},
   "outputs": [],
   "source": []
  }
 ],
 "metadata": {
  "kernelspec": {
   "display_name": "sano",
   "language": "python",
   "name": "python3"
  },
  "language_info": {
   "codemirror_mode": {
    "name": "ipython",
    "version": 3
   },
   "file_extension": ".py",
   "mimetype": "text/x-python",
   "name": "python",
   "nbconvert_exporter": "python",
   "pygments_lexer": "ipython3",
   "version": "3.10.4"
  },
  "orig_nbformat": 4
 },
 "nbformat": 4,
 "nbformat_minor": 2
}
